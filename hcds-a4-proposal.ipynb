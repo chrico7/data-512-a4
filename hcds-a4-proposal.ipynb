{
 "cells": [
  {
   "cell_type": "markdown",
   "metadata": {},
   "source": [
    "# DATA 512 - A4: Final Project Proposal\n",
    "**Corey Christopherson**  \n",
    "**11/7/2019**  \n",
    "\n",
    "The purpose of this project is to develop a \"short pitch\" for my final class project.\n",
    "\n",
    "Project information and data can be found in the Github repo \n",
    "\n",
    "## Motivation / Problem Statement\n",
    "\n",
    "In March of 2013, the Environmental Protection Agency (EPA) designated the City of Bainbridge Island aquifer system as a sole source aquifer (https://semspub.epa.gov/work/10/100006730.pdf). According to the EPA, this designation identifies areas with an aquifer that provides more than 50% of the drinking water consumed in the area overlying the aquifer and, if contaminated, \"would create a significant hazard to public health\".\n",
    "\n",
    "Since receiving this designation, the City of Bainbridge Island has experienced significant growth and development; and rumors about diminishing water supply, saltwater intrusion, and pollution are rampant.\n",
    "\n",
    "As a Bainbridge Island resident and native, the health of the water supply is of critical importance to me. My intention with this project is to perform a statistical analysis of aquifer health by investigating well log data from the Washington State Department of Ecology. I will then send this analysis to members of the Bainbridge Island City Council to provide them with additional information as they attempt to craft policy.\n",
    "\n",
    "## Data Used\n",
    "\n",
    "To perform this analysis, I will be using Well Logs data from the Washington State Department of Ecology. This dataset, described at the WA DOE Wells homepage (https://ecology.wa.gov/Water-Shorelines/Water-supply/Wells) and downloadable by using the Washington State Well Report Viewer Text Search utility (https://fortress.wa.gov/ecy/wellconstruction/map/WCLSWebMap/textsearch.aspx) contains records for each recorded well in the state. Specifically, the dataset contains the well location, diameter, depth, and completion date.\n",
    "\n",
    "Because this is public data there is no license required. However, the terms of use clearly state that the DOE makes no claim to the accuracy of the data, is not liable for any use or misuse of the data, and that state law prevents private citizen names and addresses from being used for solicitation or commercial purposes.\n",
    "\n",
    "I chose to use this dataset because drilling a new well is expensive and my belief is that the well will be drilled only as deep as it needs to be to provide water. Therefore, the depth of these wells over time should provide us with a good estimate of the vartiation in aquifer levels.\n",
    "\n",
    "The main ethical consideration of using this dataset is that it contains the names of private citizens and well location data that could be used to find someone's residence. Since my analysis does not need the owner name, I will scrub this field from my final data.\n",
    "\n",
    "## Unknowns and Dependencies\n",
    "\n",
    "This project is not without risk. Initial inspection of the data suggests that there are significant gaps in several critical data fields. Additionally, my assumption about the well-depth to aquifer-level relationship may not be accurate. While none of these limitations will prevent me from completing my study, the utility of the final product is in doubt. In order to mitigate this risk, my intention is to contact members of the well drilling community on Bainbridge Island to get their opinions on the quality of this data. Additionally, I will reach out to the initial sponsors of the EPA study to get their feedback on my approach. Finally, every assumption and limitation of my study will be clearly documented so that readers will be full aware of its limitations."
   ]
  }
 ],
 "metadata": {
  "kernelspec": {
   "display_name": "Python 3",
   "language": "python",
   "name": "python3"
  },
  "language_info": {
   "codemirror_mode": {
    "name": "ipython",
    "version": 3
   },
   "file_extension": ".py",
   "mimetype": "text/x-python",
   "name": "python",
   "nbconvert_exporter": "python",
   "pygments_lexer": "ipython3",
   "version": "3.7.3"
  }
 },
 "nbformat": 4,
 "nbformat_minor": 2
}
